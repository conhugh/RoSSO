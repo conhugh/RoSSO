{
 "cells": [
  {
   "cell_type": "code",
   "execution_count": 1,
   "metadata": {},
   "outputs": [
    {
     "name": "stdout",
     "output_type": "stream",
     "text": [
      "['/home/connor/RoboSurvStratOpt/robosurvstratopt', '/usr/lib/python38.zip', '/usr/lib/python3.8', '/usr/lib/python3.8/lib-dynload', '', '/home/connor/RoboSurvStratOpt/.jax_env/lib/python3.8/site-packages', '/home/connor/RoboSurvStratOpt/robosurvstratopt']\n"
     ]
    }
   ],
   "source": [
    "import json\n",
    "import os\n",
    "import sys\n",
    "sys.path.append(\"/home/connor/RoboSurvStratOpt/robosurvstratopt\")\n",
    "print(sys.path)\n",
    "\n",
    "from icecream import ic\n",
    "import jax.numpy as jnp\n",
    "\n",
    "import graph_comp\n",
    "from metric_tracker import MetricTracker\n",
    "from problem_spec import ProblemSpec\n",
    "import strat_comp"
   ]
  },
  {
   "cell_type": "code",
   "execution_count": 2,
   "metadata": {},
   "outputs": [],
   "source": [
    "# graph_code = \"N9_111837205133\"\n",
    "# A = graph_comp.graph_decode(graph_code)\n",
    "\n",
    "# initPs = strat_comp.init_rand_Ps(A, 5)\n",
    "# n = A.shape[0]\n",
    "# tau = 8\n",
    "\n",
    "# num_LCPs = 3"
   ]
  },
  {
   "cell_type": "code",
   "execution_count": 3,
   "metadata": {},
   "outputs": [],
   "source": [
    "fn = test_spec_filepath=os.getcwd() + \"/test_specs/oop_demo_test_spec_2.json\"\n",
    "with open(fn, \"r\") as problem_spec_file:\n",
    "    json_string = problem_spec_file.read()\n",
    "    problem_spec_dict = json.loads(json_string)\n",
    "name = problem_spec_dict[\"problem_spec_name\"]\n",
    "problem_params = problem_spec_dict[\"problem_params\"]\n",
    "opt_params = problem_spec_dict[\"optimizer_params\"]\n",
    "opt_problem = ProblemSpec(name, problem_params, opt_params)\n",
    "opt_problem.initialize()"
   ]
  },
  {
   "cell_type": "code",
   "execution_count": 6,
   "metadata": {},
   "outputs": [
    {
     "name": "stderr",
     "output_type": "stream",
     "text": [
      "ic| problem_spec.problem_params.keys(): dict_keys(['graph_name', 'graph_code', 'num_robots', 'objective_function', 'eta', 'tau', 'stationary_distribution', 'weight_matrix', 'A', 'F0', 'P', 'P_old'])\n"
     ]
    },
    {
     "name": "stdout",
     "output_type": "stream",
     "text": [
      "MCP_Stackelberg History: [0.4680319]\n",
      "abs_P_diff_sum History: [10.887329]\n",
      "abs_P_diff_max History: [0.17334463]\n",
      "MCP_Stackelberg History: [0.4680319, 0.4680319]\n",
      "abs_P_diff_sum History: [10.887329, 10.887329]\n",
      "abs_P_diff_max History: [0.17334463, 0.17334463]\n",
      "MCP_Stackelberg History: [0.4680319, 0.4680319, 0.4680319]\n",
      "abs_P_diff_sum History: [10.887329, 10.887329, 10.887329]\n",
      "abs_P_diff_max History: [0.17334463, 0.17334463, 0.17334463]\n",
      "MCP_Stackelberg History: [0.4680319, 0.4680319, 0.4680319, 0.4680319]\n",
      "abs_P_diff_sum History: [10.887329, 10.887329, 10.887329, 10.887329]\n",
      "abs_P_diff_max History: [0.17334463, 0.17334463, 0.17334463, 0.17334463]\n",
      "MCP_Stackelberg History: [0.4680319, 0.4680319, 0.4680319, 0.4680319, 0.4680319]\n",
      "abs_P_diff_sum History: [10.887329, 10.887329, 10.887329, 10.887329, 10.887329]\n",
      "abs_P_diff_max History: [0.17334463, 0.17334463, 0.17334463, 0.17334463, 0.17334463]\n"
     ]
    }
   ],
   "source": [
    "# QUESTION: Should we rename from problem_params to problem_state? should these be two separate dicts?\n",
    "\n",
    "ic(opt_problem.problem_params.keys())\n",
    "initPs = strat_comp.init_rand_Ps(opt_problem.problem_params[\"A\"], 3)\n",
    "opt_problem.problem_params[\"P\"] = initPs[:, :, 0]\n",
    "opt_problem.problem_params[\"P_old\"] = initPs[:, :, 1]/10\n",
    "\n",
    "metric_names = [\"MCP_Stackelberg\",\n",
    "                \"abs_P_diff_sum\",\n",
    "                \"abs_P_diff_max\"]\n",
    "\n",
    "metric_trackers = [MetricTracker(metric_name) for metric_name in metric_names]\n",
    "metrics = dict(zip(metric_names, metric_trackers))\n",
    "\n",
    "\n",
    "for iter in range(5):\n",
    "    for metric in metric_trackers: \n",
    "        metric.update_history(opt_problem.problem_params)\n",
    "        \n",
    "    # for metric_name in metric_names: \n",
    "    #     metrics[metric_name].update_history(problem_spec.problem_params)\n",
    "        \n",
    "        \n",
    "        \n",
    "        \n",
    "        # metric.evaluate(problem_spec.problem_params)\n",
    "\n",
    "        # if metric.metric_name == \"MCP_Stackelberg\":\n",
    "        #     metric.update_history(P, F0, tau)\n",
    "        # elif metric.metric_name == \"LCPs_Stackelberg\":\n",
    "        #     metric.update_history(P, F0, tau, num_LCPs)\n",
    "        # elif metric.metric_name == \"DP_SPCPs_Stackelberg\":\n",
    "        #     metric.update_history(A, P, F0, tau)\n",
    "        \n",
    "        # metric.update_history()        \n",
    "        metric.print_history()\n",
    "        # metric.print_history(metrics_file)"
   ]
  }
 ],
 "metadata": {
  "kernelspec": {
   "display_name": ".jax_env",
   "language": "python",
   "name": "python3"
  },
  "language_info": {
   "codemirror_mode": {
    "name": "ipython",
    "version": 3
   },
   "file_extension": ".py",
   "mimetype": "text/x-python",
   "name": "python",
   "nbconvert_exporter": "python",
   "pygments_lexer": "ipython3",
   "version": "3.8.10"
  }
 },
 "nbformat": 4,
 "nbformat_minor": 2
}
